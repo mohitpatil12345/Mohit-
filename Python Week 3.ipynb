{
  "metadata": {
    "kernelspec": {
      "name": "python",
      "display_name": "Python (Pyodide)",
      "language": "python"
    },
    "language_info": {
      "codemirror_mode": {
        "name": "python",
        "version": 3
      },
      "file_extension": ".py",
      "mimetype": "text/x-python",
      "name": "python",
      "nbconvert_exporter": "python",
      "pygments_lexer": "ipython3",
      "version": "3.8"
    }
  },
  "nbformat_minor": 4,
  "nbformat": 4,
  "cells": [
    {
      "cell_type": "markdown",
      "source": "## NUMPY",
      "metadata": {}
    },
    {
      "cell_type": "code",
      "source": "import numpy\n\narr = numpy.array([39, 6, 23, 41, 5])\n\nprint(arr)",
      "metadata": {},
      "execution_count": 8,
      "outputs": [
        {
          "name": "stdout",
          "output_type": "stream",
          "text": "[39  6 23 41  5]\n"
        }
      ]
    },
    {
      "cell_type": "code",
      "source": "import numpy as np\n\narr = np.array([1, 2, 3, 4, 5])\n\nprint(arr)\nprint(type(arr))",
      "metadata": {},
      "execution_count": 9,
      "outputs": [
        {
          "name": "stdout",
          "output_type": "stream",
          "text": "[1 2 3 4 5]\n\n<class 'numpy.ndarray'>\n"
        }
      ]
    },
    {
      "cell_type": "code",
      "source": "import numpy as np\n\nprint(np.__version__)",
      "metadata": {},
      "execution_count": 10,
      "outputs": [
        {
          "name": "stdout",
          "output_type": "stream",
          "text": "1.19.2\n"
        }
      ]
    },
    {
      "cell_type": "code",
      "source": "import numpy as np\n\na = np.array(42)\nb = np.array([1, 2, 3, 4, 5])\nc = np.array([[0, 2, 3], [9, 5, 6]])\nd = np.array([[[1, 2, 3], [8, 5, 6]], [[4, 2, 3], [3, 5, 6]]])\n\nprint(a.ndim)\nprint(b.ndim)\nprint(c.ndim)\nprint(d.ndim)",
      "metadata": {},
      "execution_count": 11,
      "outputs": [
        {
          "name": "stdout",
          "output_type": "stream",
          "text": "0\n\n1\n\n2\n\n3\n"
        }
      ]
    },
    {
      "cell_type": "code",
      "source": "import numpy as np\n\nA = np.array([11, 12, 43, 64, 85, 66, 37])\n\nprint(A[1:5])\nprint(A[2:6])\nprint(A[:-2])\nprint(A.dtype)",
      "metadata": {},
      "execution_count": 12,
      "outputs": [
        {
          "name": "stdout",
          "output_type": "stream",
          "text": "[12 43 64 85]\n\n[43 64 85 66]\n\n[11 12 43 64 85]\n\nint32\n"
        }
      ]
    },
    {
      "cell_type": "code",
      "source": "import numpy as np\n\nA = np.array([11, 22, 43, 54, 75, 76, 7, 48, 19, 10, 141, 512,45,45,33,21])\n\nB = A.reshape(4,4)\n\nprint(B)",
      "metadata": {},
      "execution_count": 18,
      "outputs": [
        {
          "name": "stdout",
          "output_type": "stream",
          "text": "[[ 11  22  43  54]\n\n [ 75  76   7  48]\n\n [ 19  10 141 512]\n\n [ 45  45  33  21]]\n"
        }
      ]
    },
    {
      "cell_type": "code",
      "source": "import numpy as np\n\nA = np.array([11, 22, 43, 54, 75, 76, 7, 48, 19, 10, 141, 512])\n\nC = A.reshape(2, 3, 2)\n\nprint(C)",
      "metadata": {},
      "execution_count": 19,
      "outputs": [
        {
          "name": "stdout",
          "output_type": "stream",
          "text": "[[[ 11  22]\n\n  [ 43  54]\n\n  [ 75  76]]\n\n\n\n [[  7  48]\n\n  [ 19  10]\n\n  [141 512]]]\n"
        }
      ]
    },
    {
      "cell_type": "code",
      "source": "import numpy as np\n\narr = np.array([11, 2, 43, 24, 50, 6,6,7])\n\nnewarr = np.array_split(arr, 3)\n\nprint(newarr)",
      "metadata": {},
      "execution_count": 22,
      "outputs": [
        {
          "name": "stdout",
          "output_type": "stream",
          "text": "[array([11,  2, 43]), array([24, 50,  6]), array([6, 7])]\n"
        }
      ]
    },
    {
      "cell_type": "code",
      "source": "a=np.zeros((3,3), dtype = np.int32)\nprint(a)\n\nb=np.full((3,3),7.8)\nprint(b)",
      "metadata": {},
      "execution_count": 27,
      "outputs": [
        {
          "name": "stdout",
          "output_type": "stream",
          "text": "[[0 0 0]\n\n [0 0 0]\n\n [0 0 0]]\n\n[[7.8 7.8 7.8]\n\n [7.8 7.8 7.8]\n\n [7.8 7.8 7.8]]\n"
        }
      ]
    },
    {
      "cell_type": "code",
      "source": "import numpy as np\n\nc = np.random.rand(3,3)\nprint(c)\n\nc = np.random.randint(-10, 7,size=(3,4))\nprint(c)",
      "metadata": {},
      "execution_count": 39,
      "outputs": [
        {
          "name": "stdout",
          "output_type": "stream",
          "text": "[[0.91333091 0.35512225 0.71292943]\n\n [0.49707204 0.5439543  0.71511308]\n\n [0.31124714 0.89109578 0.7440238 ]]\n\n[[ 6 -3  3 -8]\n\n [-1 -2 -3  3]\n\n [-9  0 -9  6]]\n"
        }
      ]
    },
    {
      "cell_type": "markdown",
      "source": "## PANDAS",
      "metadata": {}
    },
    {
      "cell_type": "code",
      "source": "import pandas as pd\nimport numpy as np\n\na = np.array([1,2,3])\nprint(a)\n\nd = pd.Series(a)\nprint(d)",
      "metadata": {
        "tags": []
      },
      "execution_count": 41,
      "outputs": [
        {
          "name": "stdout",
          "output_type": "stream",
          "text": "[1 2 3]\n\n0    1\n\n1    2\n\n2    3\n\ndtype: int32\n"
        }
      ]
    },
    {
      "cell_type": "code",
      "source": "a = {'a':1,'b':2,'c':3}\nd = pd.Series(a)\nprint(d)",
      "metadata": {
        "tags": []
      },
      "execution_count": 42,
      "outputs": [
        {
          "name": "stdout",
          "output_type": "stream",
          "text": "a    1\n\nb    2\n\nc    3\n\ndtype: int64\n"
        }
      ]
    },
    {
      "cell_type": "code",
      "source": "a = [[\"Alex\",23],[\"ronaldo\",25],[\"Messi\",34]]\nd = pd.DataFrame(a)\nprint(d)",
      "metadata": {
        "tags": []
      },
      "execution_count": 43,
      "outputs": [
        {
          "name": "stdout",
          "output_type": "stream",
          "text": "         0   1\n\n0     Alex  23\n\n1  ronaldo  25\n\n2    Messi  34\n"
        }
      ]
    },
    {
      "cell_type": "code",
      "source": "d = pd.DataFrame(a,index=['a','b','c'],columns=['name','age'])\nprint(d)",
      "metadata": {
        "tags": []
      },
      "execution_count": 44,
      "outputs": [
        {
          "name": "stdout",
          "output_type": "stream",
          "text": "      name  age\n\na     Alex   23\n\nb  ronaldo   25\n\nc    Messi   34\n"
        }
      ]
    },
    {
      "cell_type": "code",
      "source": "a = {\"Name\":[\"alex\",\"ronaldo\",\"messi\"], \"age\":[22,23,25],\"temp\":[111,222,333], \"Class\":[2,3,4]}\nd = pd.DataFrame(a)\nprint(d)",
      "metadata": {
        "tags": []
      },
      "execution_count": 48,
      "outputs": [
        {
          "name": "stdout",
          "output_type": "stream",
          "text": "      Name  age  temp  Class\n\n0     alex   22   111      2\n\n1  ronaldo   23   222      3\n\n2    messi   25   333      4\n"
        }
      ]
    },
    {
      "cell_type": "code",
      "source": "#loc iloc these properties used to access the dataframe\nd.loc[0:2,\"Name\"]",
      "metadata": {
        "tags": []
      },
      "execution_count": 53,
      "outputs": [
        {
          "execution_count": 53,
          "output_type": "execute_result",
          "data": {
            "text/plain": [
              "0       alex\n",
              "1    ronaldo\n",
              "2      messi\n",
              "Name: Name, dtype: object"
            ]
          },
          "metadata": {}
        }
      ]
    },
    {
      "cell_type": "code",
      "source": "d.iloc[:1]",
      "metadata": {
        "tags": []
      },
      "execution_count": 52,
      "outputs": [
        {
          "execution_count": 52,
          "output_type": "execute_result",
          "data": {
            "text/html": [
              "<div>\n",
              "<style scoped>\n",
              "    .dataframe tbody tr th:only-of-type {\n",
              "        vertical-align: middle;\n",
              "    }\n",
              "\n",
              "    .dataframe tbody tr th {\n",
              "        vertical-align: top;\n",
              "    }\n",
              "\n",
              "    .dataframe thead th {\n",
              "        text-align: right;\n",
              "    }\n",
              "</style>\n",
              "<table border=\"1\" class=\"dataframe\">\n",
              "  <thead>\n",
              "    <tr style=\"text-align: right;\">\n",
              "      <th></th>\n",
              "      <th>Name</th>\n",
              "      <th>age</th>\n",
              "      <th>temp</th>\n",
              "      <th>Class</th>\n",
              "    </tr>\n",
              "  </thead>\n",
              "  <tbody>\n",
              "    <tr>\n",
              "      <th>0</th>\n",
              "      <td>alex</td>\n",
              "      <td>22</td>\n",
              "      <td>111</td>\n",
              "      <td>2</td>\n",
              "    </tr>\n",
              "    <tr>\n",
              "      <th>1</th>\n",
              "      <td>ronaldo</td>\n",
              "      <td>23</td>\n",
              "      <td>222</td>\n",
              "      <td>3</td>\n",
              "    </tr>\n",
              "  </tbody>\n",
              "</table>\n",
              "</div>"
            ],
            "text/plain": [
              "      Name  age  temp  Class\n",
              "0     alex   22   111      2\n",
              "1  ronaldo   23   222      3"
            ]
          },
          "metadata": {}
        }
      ]
    },
    {
      "cell_type": "code",
      "source": "import pandas as pd\n\ndataset = {\n  'cars': [\"BMW\", \"Volvo\", \"Ford\"],\n  'passings': [3, 7, 2]\n}\n\nvar = pd.DataFrame(dataset)\n\nprint(var)",
      "metadata": {
        "tags": []
      },
      "execution_count": 54,
      "outputs": [
        {
          "name": "stdout",
          "output_type": "stream",
          "text": "    cars  passings\n\n0    BMW         3\n\n1  Volvo         7\n\n2   Ford         2\n"
        }
      ]
    },
    {
      "cell_type": "code",
      "source": "import pandas as pd\n\ndata = {\n  \"calories\": [420, 380, 390],\n  \"duration\": [50, 40, 45]\n}\n\n#load data into a DataFrame object:\ndf = pd.DataFrame(data)\n\nprint(df) \nprint(df.loc[1:2])",
      "metadata": {
        "tags": []
      },
      "execution_count": 60,
      "outputs": [
        {
          "name": "stdout",
          "output_type": "stream",
          "text": "   calories  duration\n\n0       420        50\n\n1       380        40\n\n2       390        45\n\n   calories  duration\n\n1       380        40\n\n2       390        45\n"
        }
      ]
    },
    {
      "cell_type": "code",
      "source": "df = pd.DataFrame(np.random.randn(5, 3), index=['a', 'c', 'e', 'f','h'],columns=['one', 'two', 'three'])\n\nprint(df)\n\ndf = df.reindex(['a', 'b', 'c', 'd', 'e', 'f', 'g', 'h'])\n\nprint(df)",
      "metadata": {
        "tags": []
      },
      "execution_count": 62,
      "outputs": [
        {
          "name": "stdout",
          "output_type": "stream",
          "text": "        one       two     three\n\na -0.797127 -0.400400 -0.073805\n\nc  0.496879 -0.236007  0.069064\n\ne -0.066172  0.531711  2.123109\n\nf  0.495900 -2.053200  0.549270\n\nh  0.804053  1.324168 -1.421560\n\n        one       two     three\n\na -0.797127 -0.400400 -0.073805\n\nb       NaN       NaN       NaN\n\nc  0.496879 -0.236007  0.069064\n\nd       NaN       NaN       NaN\n\ne -0.066172  0.531711  2.123109\n\nf  0.495900 -2.053200  0.549270\n\ng       NaN       NaN       NaN\n\nh  0.804053  1.324168 -1.421560\n"
        }
      ]
    },
    {
      "cell_type": "code",
      "source": "df['one'].isnull()",
      "metadata": {
        "tags": []
      },
      "execution_count": 63,
      "outputs": [
        {
          "execution_count": 63,
          "output_type": "execute_result",
          "data": {
            "text/plain": [
              "a    False\n",
              "b     True\n",
              "c    False\n",
              "d     True\n",
              "e    False\n",
              "f    False\n",
              "g     True\n",
              "h    False\n",
              "Name: one, dtype: bool"
            ]
          },
          "metadata": {}
        }
      ]
    },
    {
      "cell_type": "code",
      "source": "df['one'].fillna(0)",
      "metadata": {
        "tags": []
      },
      "execution_count": 64,
      "outputs": [
        {
          "execution_count": 64,
          "output_type": "execute_result",
          "data": {
            "text/plain": [
              "a   -0.797127\n",
              "b    0.000000\n",
              "c    0.496879\n",
              "d    0.000000\n",
              "e   -0.066172\n",
              "f    0.495900\n",
              "g    0.000000\n",
              "h    0.804053\n",
              "Name: one, dtype: float64"
            ]
          },
          "metadata": {}
        }
      ]
    },
    {
      "cell_type": "code",
      "source": "d = {'Name':pd.Series(['Tom','James','Ricky','Vin','Steve','Smith','Jack',\n   'Lee','David','Gasper','Betina','Andres']),\n   'Age':pd.Series([25,26,25,23,30,29,23,34,40,30,51,46]),\n   'Rating':pd.Series([4.23,3.24,3.98,2.56,3.20,4.6,3.8,3.78,2.98,4.80,4.10,3.65])\n}\n\ndf = pd.DataFrame(d)\nprint(df)\nprint(d)",
      "metadata": {
        "tags": [],
        "collapsed": true,
        "jupyter": {
          "outputs_hidden": true
        }
      },
      "execution_count": 65,
      "outputs": [
        {
          "name": "stdout",
          "output_type": "stream",
          "text": "      Name  Age  Rating\n\n0      Tom   25    4.23\n\n1    James   26    3.24\n\n2    Ricky   25    3.98\n\n3      Vin   23    2.56\n\n4    Steve   30    3.20\n\n5    Smith   29    4.60\n\n6     Jack   23    3.80\n\n7      Lee   34    3.78\n\n8    David   40    2.98\n\n9   Gasper   30    4.80\n\n10  Betina   51    4.10\n\n11  Andres   46    3.65\n\n{'Name': 0        Tom\n\n1      James\n\n2      Ricky\n\n3        Vin\n\n4      Steve\n\n5      Smith\n\n6       Jack\n\n7        Lee\n\n8      David\n\n9     Gasper\n\n10    Betina\n\n11    Andres\n\ndtype: object, 'Age': 0     25\n\n1     26\n\n2     25\n\n3     23\n\n4     30\n\n5     29\n\n6     23\n\n7     34\n\n8     40\n\n9     30\n\n10    51\n\n11    46\n\ndtype: int64, 'Rating': 0     4.23\n\n1     3.24\n\n2     3.98\n\n3     2.56\n\n4     3.20\n\n5     4.60\n\n6     3.80\n\n7     3.78\n\n8     2.98\n\n9     4.80\n\n10    4.10\n\n11    3.65\n\ndtype: float64}\n"
        }
      ]
    },
    {
      "cell_type": "code",
      "source": "x = df.mean()\nprint(x)",
      "metadata": {
        "tags": []
      },
      "execution_count": 67,
      "outputs": [
        {
          "name": "stdout",
          "output_type": "stream",
          "text": "Age       31.833333\n\nRating     3.743333\n\ndtype: float64\n"
        }
      ]
    },
    {
      "cell_type": "code",
      "source": "x = df.sum(axis=1)\nprint(x)",
      "metadata": {
        "tags": []
      },
      "execution_count": 77,
      "outputs": [
        {
          "name": "stdout",
          "output_type": "stream",
          "text": "0      58.46\n\n1      58.48\n\n2      57.96\n\n3      51.12\n\n4      66.40\n\n5      67.20\n\n6      53.60\n\n7      75.56\n\n8      85.96\n\n9      69.60\n\n10    110.20\n\n11     99.30\n\ndtype: float64\n"
        }
      ]
    },
    {
      "cell_type": "code",
      "source": "df['sum'] = df['Rating'] + df['Age']\nprint(df)",
      "metadata": {
        "tags": []
      },
      "execution_count": 78,
      "outputs": [
        {
          "name": "stdout",
          "output_type": "stream",
          "text": "      Name  Age  Rating    sum\n\n0      Tom   25    4.23  29.23\n\n1    James   26    3.24  29.24\n\n2    Ricky   25    3.98  28.98\n\n3      Vin   23    2.56  25.56\n\n4    Steve   30    3.20  33.20\n\n5    Smith   29    4.60  33.60\n\n6     Jack   23    3.80  26.80\n\n7      Lee   34    3.78  37.78\n\n8    David   40    2.98  42.98\n\n9   Gasper   30    4.80  34.80\n\n10  Betina   51    4.10  55.10\n\n11  Andres   46    3.65  49.65\n"
        }
      ]
    },
    {
      "cell_type": "markdown",
      "source": "## MATPLOTLIB",
      "metadata": {}
    },
    {
      "cell_type": "code",
      "source": "import matplotlib\n\nprint(matplotlib.__version__)",
      "metadata": {},
      "execution_count": 1,
      "outputs": [
        {
          "name": "stdout",
          "output_type": "stream",
          "text": "3.3.2\n"
        }
      ]
    },
    {
      "cell_type": "code",
      "source": "import matplotlib.pyplot as plt\nimport numpy as np\n\nxpoints = np.array([0, 6])\nypoints = np.array([0, 250])\n\nplt.plot(xpoints, ypoints)\nplt.show()",
      "metadata": {
        "tags": []
      },
      "execution_count": 2,
      "outputs": [
        {
          "output_type": "display_data",
          "data": {
            "image/png": "[encoded data removed]",
            "text/plain": [
              "<Figure size 432x288 with 1 Axes>"
            ]
          },
          "metadata": {
            "needs_background": "light"
          }
        }
      ]
    },
    {
      "cell_type": "code",
      "source": "import matplotlib.pyplot as plt\nimport numpy as np\n\nypoints = np.array([3, 8, 1, 10])\n\nplt.plot(ypoints, marker = 'D')\nplt.show()",
      "metadata": {
        "tags": []
      },
      "execution_count": 4,
      "outputs": [
        {
          "output_type": "display_data",
          "data": {
            "image/png": "[encoded data removed]",
            "text/plain": [
              "<Figure size 432x288 with 1 Axes>"
            ]
          },
          "metadata": {
            "needs_background": "light"
          }
        }
      ]
    },
    {
      "cell_type": "code",
      "source": "import matplotlib.pyplot as plt\nimport numpy as np\n\nypoints = np.array([3, 8, 1, 10])\n\nplt.plot(ypoints, 'o-.g')\nplt.show()",
      "metadata": {
        "collapsed": true,
        "jupyter": {
          "outputs_hidden": true
        },
        "tags": []
      },
      "execution_count": 10,
      "outputs": [
        {
          "output_type": "display_data",
          "data": {
            "image/png": "[encoded data removed]",
            "text/plain": [
              "<Figure size 432x288 with 1 Axes>"
            ]
          },
          "metadata": {
            "needs_background": "light"
          }
        }
      ]
    },
    {
      "cell_type": "code",
      "source": "import matplotlib.pyplot as plt\nimport numpy as np\n\nypoints = np.array([3, 8, 1, 10])\n\nplt.plot(ypoints, marker = 'o', ms = 7)\nplt.show()",
      "metadata": {
        "tags": []
      },
      "execution_count": 17,
      "outputs": [
        {
          "output_type": "display_data",
          "data": {
            "image/png": "[encoded data removed]",
            "text/plain": [
              "<Figure size 432x288 with 1 Axes>"
            ]
          },
          "metadata": {
            "needs_background": "light"
          }
        }
      ]
    },
    {
      "cell_type": "code",
      "source": "import matplotlib.pyplot as plt\nimport numpy as np\n\ny = np.array([35, 25, 25, 10, 5,5])\n\nplt.pie(y)\nplt.show() ",
      "metadata": {
        "tags": []
      },
      "execution_count": 20,
      "outputs": [
        {
          "output_type": "display_data",
          "data": {
            "image/png": "[encoded data removed]",
            "text/plain": [
              "<Figure size 432x288 with 1 Axes>"
            ]
          },
          "metadata": {}
        }
      ]
    },
    {
      "cell_type": "code",
      "source": "import matplotlib.pyplot as plt\nimport numpy as np\n\ny = np.array([35, 25, 25, 15])\nmylabels = [\"Apples\", \"Bananas\", \"Cherries\", \"Dates\"]\n\nplt.pie(y, labels = mylabels, startangle = 90)\nplt.show() ",
      "metadata": {
        "tags": []
      },
      "execution_count": null,
      "outputs": [
        {
          "output_type": "display_data",
          "data": {
            "image/png": "[encoded data removed]",
            "text/plain": [
              "<Figure size 432x288 with 1 Axes>"
            ]
          },
          "metadata": {}
        }
      ]
    },
    {
      "cell_type": "code",
      "source": "",
      "metadata": {},
      "execution_count": null,
      "outputs": []
    }
  ]
}